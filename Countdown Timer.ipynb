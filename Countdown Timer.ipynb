{
 "cells": [
  {
   "cell_type": "code",
   "execution_count": 20,
   "id": "5464aa7f",
   "metadata": {},
   "outputs": [],
   "source": [
    "#Importing the module\n",
    "import tkinter as tk\n",
    "import datetime "
   ]
  },
  {
   "cell_type": "code",
   "execution_count": 21,
   "id": "e58f02fa",
   "metadata": {},
   "outputs": [],
   "source": [
    "#To generate the beep sound\n",
    "from pygame import mixer\n",
    "mixer.init() \n",
    "sound=mixer.Sound(\"beep-01a.wav\")"
   ]
  },
  {
   "cell_type": "code",
   "execution_count": 23,
   "id": "19e0ad9b",
   "metadata": {},
   "outputs": [],
   "source": [
    "#creating a countdown class\n",
    "class Countdown(tk.Frame):\n",
    "    def __init__(self,master):\n",
    "        super().__init__(master)\n",
    "        self.create_widgets()\n",
    "        self.show_widgets()\n",
    "        self.seconds_left=0\n",
    "        self._timer_on=False\n",
    "    \n",
    "    def show_widgets(self):\n",
    "        self.label.pack()\n",
    "        self.entry.pack()\n",
    "        self.start.pack()\n",
    "        self.stop.pack()\n",
    "        self.reset.pack()\n",
    "    \n",
    "    def create_widgets(self):\n",
    "        self.label = tk.Label(self,text=\"Enter the time in seconds\")\n",
    "        self.entry = tk.Entry(self,justify=\"center\")\n",
    "        self.entry.focus_set()\n",
    "        self.reset=tk.Button(self,text=\"Reset Timer\",command=self.reset_button)\n",
    "        self.stop=tk.Button(self,text=\"Stop Timer\",command=self.stop_button)\n",
    "        self.start=tk.Button(self,text=\"Start Timer\",command=self.start_button)\n",
    "    \n",
    "    def countdown(self):\n",
    "        self.label[\"text\"]=self.convert_seconds_left_to_time()\n",
    "        \n",
    "        if self.seconds_left:\n",
    "            self.seconds_left-=1\n",
    "            self._timer_on=self.after(1000,self.countdown)\n",
    "        else:\n",
    "            self._timer_on=False\n",
    "            sound.play()\n",
    "    \n",
    "    def reset_button(self):\n",
    "        self.seconds_left=0\n",
    "        self.stop_timer()\n",
    "        self._timer_on=False\n",
    "        self.label[\"text\"]=\"Enter the time in seconds\"\n",
    "        self.start.forget()\n",
    "        self.stop.forget()\n",
    "        self.reset.forget()\n",
    "        self.start.pack()\n",
    "        self.stop.pack()\n",
    "        self.reset.pack()\n",
    "        \n",
    "    def stop_button(self):\n",
    "        self.seconds_left=int(self.entry.get())\n",
    "        self.stop_timer()\n",
    "        \n",
    "    def start_button(self):\n",
    "        self.seconds_left=int(self.entry.get())\n",
    "        self.stop_timer()\n",
    "        self.countdown()\n",
    "        self.start.forget()\n",
    "        self.stop.forget()\n",
    "        self.reset.forget()\n",
    "        self.start.pack()\n",
    "        self.stop.pack()\n",
    "        self.reset.pack()\n",
    "        \n",
    "    def stop_timer(self):\n",
    "        if self._timer_on:\n",
    "            self.after_cancel(self._timer_on)\n",
    "            self._timeer_on=False\n",
    "        \n",
    "    def convert_seconds_left_to_time(self):\n",
    "        return datetime.timedelta(seconds=self.seconds_left)    \n",
    "    \n",
    "    \n",
    "#Main loop\n",
    "if __name__==\"__main__\":\n",
    "    root=tk.Tk()\n",
    "    root.resizable(False,False)\n",
    "    \n",
    "    countdown=Countdown(root)\n",
    "    countdown.pack()\n",
    "    \n",
    "    root.mainloop()\n",
    "    "
   ]
  },
  {
   "cell_type": "code",
   "execution_count": null,
   "id": "835abfca",
   "metadata": {},
   "outputs": [],
   "source": [
    " "
   ]
  },
  {
   "cell_type": "code",
   "execution_count": null,
   "id": "a8a5bfc6",
   "metadata": {},
   "outputs": [],
   "source": []
  }
 ],
 "metadata": {
  "kernelspec": {
   "display_name": "Python 3 (ipykernel)",
   "language": "python",
   "name": "python3"
  },
  "language_info": {
   "codemirror_mode": {
    "name": "ipython",
    "version": 3
   },
   "file_extension": ".py",
   "mimetype": "text/x-python",
   "name": "python",
   "nbconvert_exporter": "python",
   "pygments_lexer": "ipython3",
   "version": "3.9.12"
  }
 },
 "nbformat": 4,
 "nbformat_minor": 5
}
